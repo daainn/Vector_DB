{
 "cells": [
  {
   "cell_type": "markdown",
   "metadata": {},
   "source": [
    "### vector db 활용실습"
   ]
  },
  {
   "cell_type": "markdown",
   "metadata": {},
   "source": [
    "- 야놀자의 제주도 호텔 리뷰를 바탕으로 사용자가 원하는 호텔의 종류를 입력받고 사용자의 키워드와 높은 유사도를 가진 리뷰를 검색하여 호텔 추천"
   ]
  },
  {
   "cell_type": "code",
   "execution_count": 15,
   "metadata": {},
   "outputs": [],
   "source": [
    "import pandas as pd\n",
    "import chromadb\n",
    "import numpy as np\n",
    "from sentence_transformers import SentenceTransformer\n"
   ]
  },
  {
   "cell_type": "code",
   "execution_count": null,
   "metadata": {},
   "outputs": [
    {
     "name": "stdout",
     "output_type": "stream",
     "text": [
      "<class 'pandas.core.frame.DataFrame'>\n",
      "RangeIndex: 12920 entries, 0 to 12919\n",
      "Data columns (total 6 columns):\n",
      " #   Column        Non-Null Count  Dtype \n",
      "---  ------        --------------  ----- \n",
      " 0   Unnamed: 0    12920 non-null  int64 \n",
      " 1   hotel         12920 non-null  object\n",
      " 2   star          12920 non-null  int64 \n",
      " 3   review        12920 non-null  object\n",
      " 4   clean_review  12920 non-null  object\n",
      " 5   date          12920 non-null  object\n",
      "dtypes: int64(2), object(4)\n",
      "memory usage: 605.8+ KB\n"
     ]
    }
   ],
   "source": [
    "df = pd.read_csv('./data/jeju_hotel_review_raw.csv')\n",
    "\n",
    "df.info()"
   ]
  },
  {
   "cell_type": "code",
   "execution_count": 17,
   "metadata": {},
   "outputs": [
    {
     "data": {
      "text/plain": [
       "41"
      ]
     },
     "execution_count": 17,
     "metadata": {},
     "output_type": "execute_result"
    }
   ],
   "source": [
    "df['hotel'].nunique()"
   ]
  },
  {
   "cell_type": "code",
   "execution_count": 18,
   "metadata": {},
   "outputs": [
    {
     "data": {
      "text/plain": [
       "hotel\n",
       "아트스테이 서귀포 하버                 1270\n",
       "봄그리고가을 호텔&리조트                 736\n",
       "호텔 리젠트마린                      574\n",
       "호텔위드 제주                       505\n",
       "휘슬락 호텔                        492\n",
       "호텔 시리우스 제주                    482\n",
       "호텔샬롬 제주                       425\n",
       "코업시티호텔 성산                     386\n",
       "라마다 제주시티 호텔                   384\n",
       "코델리아s 호텔 앤 리조트                357\n",
       "브라운 스위트 제주                    348\n",
       "베스트웨스턴 제주                     322\n",
       "신화관 제주 신화월드 호텔앤리조트            307\n",
       "더 베스트 제주 성산(구 라마다 앙코르 성산)     305\n",
       "유탑유블레스호텔 제주함덕                 300\n",
       "제주 헤이, 서귀포                    292\n",
       "호텔 컬리넌 제주                     289\n",
       "롯데 시티호텔 제주                    288\n",
       "호텔 앨리스 앤 트렁크                  288\n",
       "호텔 에어시티 제주                    286\n",
       "랜딩관 제주신화월드 호텔앤리조트             275\n",
       "윈스토리 호텔 서귀포                   271\n",
       "호텔 골든데이지 서귀포 오션               262\n",
       "에벤에셀 제주 함덕호텔                  259\n",
       "제주 센트럴 시티 호텔                  257\n",
       "호텔 케니 서귀포                     238\n",
       "제주 부영호텔&리조트                   236\n",
       "플레이스 캠프 제주                    219\n",
       "팜파스호텔 제주                      213\n",
       "더 포 그레이스 리조트                  213\n",
       "히든 클리프 호텔 앤 네이쳐               201\n",
       "더큐브 리조트 제주                    200\n",
       "파크 선샤인 제주                     198\n",
       "스위트 메이 호텔 서귀포                 185\n",
       "서귀포 라마다 앙코르 호텔                179\n",
       "제주 노블피아 호텔                    179\n",
       "탐라스테이 제주                      172\n",
       "신신호텔 제주 천지연                   171\n",
       "블루하와이호텔                       163\n",
       "제주 엠스테이                       133\n",
       "퍼스트70 호텔                       60\n",
       "Name: count, dtype: int64"
      ]
     },
     "execution_count": 18,
     "metadata": {},
     "output_type": "execute_result"
    }
   ],
   "source": [
    "df['hotel'].value_counts()\n"
   ]
  },
  {
   "cell_type": "code",
   "execution_count": 19,
   "metadata": {},
   "outputs": [
    {
     "name": "stdout",
     "output_type": "stream",
     "text": [
      "<class 'pandas.core.frame.DataFrame'>\n",
      "RangeIndex: 2050 entries, 0 to 2049\n",
      "Data columns (total 6 columns):\n",
      " #   Column        Non-Null Count  Dtype \n",
      "---  ------        --------------  ----- \n",
      " 0   Unnamed: 0    2050 non-null   int64 \n",
      " 1   hotel         2050 non-null   object\n",
      " 2   star          2050 non-null   int64 \n",
      " 3   review        2050 non-null   object\n",
      " 4   clean_review  2050 non-null   object\n",
      " 5   date          2050 non-null   object\n",
      "dtypes: int64(2), object(4)\n",
      "memory usage: 96.2+ KB\n"
     ]
    }
   ],
   "source": [
    "df_1_ = df.groupby('hotel').head(50).reset_index(drop=True)\n",
    "df_1_.info()"
   ]
  },
  {
   "cell_type": "markdown",
   "metadata": {},
   "source": [
    "* 임베딩 모델 로드"
   ]
  },
  {
   "cell_type": "code",
   "execution_count": 20,
   "metadata": {},
   "outputs": [],
   "source": [
    "model = SentenceTransformer('sentence-transformers/xlm-r-100langs-bert-base-nli-stsb-mean-tokens')"
   ]
  },
  {
   "cell_type": "markdown",
   "metadata": {},
   "source": [
    "* cromadb 클라이언트 객체 생성"
   ]
  },
  {
   "cell_type": "code",
   "execution_count": 21,
   "metadata": {},
   "outputs": [],
   "source": [
    "hotel_chroma_client = chromadb.PersistentClient(path=\"./hotel_chroma_db\")\n",
    "hotel_collection = hotel_chroma_client.get_or_create_collection(name=\"hotel_documents\")\n"
   ]
  },
  {
   "cell_type": "code",
   "execution_count": 22,
   "metadata": {},
   "outputs": [
    {
     "data": {
      "text/plain": [
       "0       아트스테이 서귀포 하버\n",
       "1       아트스테이 서귀포 하버\n",
       "2       아트스테이 서귀포 하버\n",
       "3       아트스테이 서귀포 하버\n",
       "4       아트스테이 서귀포 하버\n",
       "            ...     \n",
       "2045      플레이스 캠프 제주\n",
       "2046      플레이스 캠프 제주\n",
       "2047      플레이스 캠프 제주\n",
       "2048      플레이스 캠프 제주\n",
       "2049      플레이스 캠프 제주\n",
       "Name: hotel, Length: 2050, dtype: object"
      ]
     },
     "execution_count": 22,
     "metadata": {},
     "output_type": "execute_result"
    }
   ],
   "source": [
    "df_1_['hotel']"
   ]
  },
  {
   "cell_type": "code",
   "execution_count": 23,
   "metadata": {},
   "outputs": [],
   "source": [
    "for i, doc in enumerate(df_1_['review']):\n",
    "    # # 문서를 추가\n",
    "    # if i >= len(df_1_):\n",
    "    #     break  # DataFrame 범위를 벗어나면 루프 종료\n",
    "    embedding = model.encode(doc).tolist()\n",
    "    hotel_collection.add(\n",
    "        ids=[str(i)],\n",
    "        embeddings=embedding,\n",
    "        metadatas = [{'hotel': df_1_['hotel'][i], \"review\": doc}]\n",
    "    )  "
   ]
  },
  {
   "cell_type": "code",
   "execution_count": 24,
   "metadata": {},
   "outputs": [
    {
     "name": "stdout",
     "output_type": "stream",
     "text": [
      "현재 저장된 문서 개수: 2050\n"
     ]
    }
   ],
   "source": [
    "print(\"현재 저장된 문서 개수:\", hotel_collection.count())\n"
   ]
  },
  {
   "cell_type": "code",
   "execution_count": 48,
   "metadata": {},
   "outputs": [
    {
     "name": "stdout",
     "output_type": "stream",
     "text": [
      "추천 호텔: 호텔 에어시티 제주\n",
      "추천 호텔 리뷰: 가성비 좋은 호텔이네요. 잘 쉬다갑니다.\n",
      "====================================================================================================\n",
      "추천 호텔: 호텔 에어시티 제주\n",
      "추천 호텔 리뷰: 가성비 짱좋은 호텔. 위치도 굳 주차가 조금번거로웠지만 매우만족합니다^^\n",
      "====================================================================================================\n",
      "추천 호텔: 코업시티호텔 성산\n",
      "추천 호텔 리뷰: 방 컨디션 및 뷰가 너무 좋구요!\n",
      "조식도 저렴한데 엄청맛잇고 만족스러웟어요!\n",
      "성산일출봉도 가까워서 일출보기도 너무좋은 최적의 호텔이엿어요!!!\n",
      "====================================================================================================\n"
     ]
    }
   ],
   "source": [
    "query_keyword = \"가격대비 좋은 호텔\"\n",
    "\n",
    "\n",
    "query_embedding = model.encode(query_keyword).tolist()\n",
    "\n",
    "results = hotel_collection.query(\n",
    "    query_embeddings=query_embedding,\n",
    "    n_results=3\n",
    ")\n",
    "\n",
    "for i, result in enumerate(results[\"metadatas\"][0]):\n",
    "    print(\"추천 호텔:\", result[\"hotel\"])\n",
    "    print(\"추천 호텔 리뷰:\", result[\"review\"])\n",
    "    print(\"=\"*100)"
   ]
  },
  {
   "cell_type": "code",
   "execution_count": null,
   "metadata": {},
   "outputs": [],
   "source": []
  }
 ],
 "metadata": {
  "kernelspec": {
   "display_name": "vectordb_env",
   "language": "python",
   "name": "python3"
  },
  "language_info": {
   "codemirror_mode": {
    "name": "ipython",
    "version": 3
   },
   "file_extension": ".py",
   "mimetype": "text/x-python",
   "name": "python",
   "nbconvert_exporter": "python",
   "pygments_lexer": "ipython3",
   "version": "3.9.21"
  }
 },
 "nbformat": 4,
 "nbformat_minor": 2
}
